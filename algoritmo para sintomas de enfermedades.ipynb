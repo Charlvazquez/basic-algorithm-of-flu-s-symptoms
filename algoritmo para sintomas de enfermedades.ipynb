{
 "cells": [
  {
   "cell_type": "code",
   "execution_count": 1,
   "metadata": {},
   "outputs": [],
   "source": [
    "datos_entrenamiento = [\n",
    "    [1, 1, 0, 1, 'Infección de garganta'],\n",
    "    [0, 0, 1, 0, 'Alergia'],\n",
    "    [0, 0, 1, 1, 'Resfriado'],\n",
    "    [0, 0, 1, 0, 'Alergia'],\n",
    "    [1, 1, 1, 1, 'Infección de garganta'],\n",
    "    [0, 0, 1, 0, 'Resfriado'],\n",
    "    [1, 0, 1, 1, 'Resfriado'],\n",
    "    [1, 1, 0, 1, 'Infección de garganta'],\n",
    "    [0, 0, 1, 1, 'Resfriado'],\n",
    "]\n",
    "#datos recopilados de la matriz de la matriz de decisiones"
   ]
  },
  {
   "cell_type": "code",
   "execution_count": 2,
   "metadata": {},
   "outputs": [],
   "source": [
    "#Síntomas y condicionales de nuestra matriz\n",
    "etiquetas = [\"Fiebre\", \"Dolor de garganta\", \"Congestión\", \"Dolor de cabeza\", \"Diagnóstico\"]"
   ]
  },
  {
   "cell_type": "code",
   "execution_count": 3,
   "metadata": {},
   "outputs": [],
   "source": [
    "def unicos_valores(filas, columnas): return set([fila[columnas] for fila in filas])"
   ]
  },
  {
   "cell_type": "code",
   "execution_count": 4,
   "metadata": {},
   "outputs": [
    {
     "data": {
      "text/plain": [
       "{'Alergia', 'Infección de garganta', 'Resfriado'}"
      ]
     },
     "execution_count": 4,
     "metadata": {},
     "output_type": "execute_result"
    }
   ],
   "source": [
    "unicos_valores(datos_entrenamiento, 4)"
   ]
  },
  {
   "cell_type": "code",
   "execution_count": 5,
   "metadata": {},
   "outputs": [],
   "source": [
    "def class_contar(filas):\n",
    "    contar = {}\n",
    "    for fila in filas:\n",
    "        contenido = fila[-1]\n",
    "        if contenido not in contar:\n",
    "            contar[contenido] = 0\n",
    "        contar[contenido] += 1\n",
    "    return contar"
   ]
  },
  {
   "cell_type": "code",
   "execution_count": 6,
   "metadata": {},
   "outputs": [
    {
     "data": {
      "text/plain": [
       "{'Infección de garganta': 3, 'Alergia': 2, 'Resfriado': 4}"
      ]
     },
     "execution_count": 6,
     "metadata": {},
     "output_type": "execute_result"
    }
   ],
   "source": [
    "#contar etiquetas de los datos de entrenamiento\n",
    "class_contar(datos_entrenamiento)"
   ]
  },
  {
   "cell_type": "code",
   "execution_count": 7,
   "metadata": {},
   "outputs": [],
   "source": [
    "def es_numerico(valor): return isinstance(valor, int) or isinstance(valor, float)"
   ]
  },
  {
   "cell_type": "code",
   "execution_count": 12,
   "metadata": {},
   "outputs": [
    {
     "data": {
      "text/plain": [
       "True"
      ]
     },
     "execution_count": 12,
     "metadata": {},
     "output_type": "execute_result"
    }
   ],
   "source": [
    "es_numerico(datos_entrenamiento[0][1])"
   ]
  },
  {
   "cell_type": "code",
   "execution_count": 13,
   "metadata": {},
   "outputs": [],
   "source": [
    "class Evaluar:\n",
    "\n",
    "    def __init__(self, column, value):\n",
    "        self.column = column\n",
    "        self.value = value\n",
    "\n",
    "    def comparar(self, example):\n",
    "        val = example[self.column]\n",
    "        if es_numerico(val):\n",
    "            return val >= self.value\n",
    "        else:\n",
    "            return val == self.value\n",
    "\n",
    "    def __repr__(self):\n",
    "        condition = \"==\"\n",
    "        if es_numerico(self.value):\n",
    "            condition = \">=\"\n",
    "        return \"Is %s %s %s?\" % (\n",
    "            etiquetas[self.column], condition, str(self.value))"
   ]
  },
  {
   "cell_type": "code",
   "execution_count": 24,
   "metadata": {},
   "outputs": [
    {
     "data": {
      "text/plain": [
       "Is Congestión >= 1?"
      ]
     },
     "execution_count": 24,
     "metadata": {},
     "output_type": "execute_result"
    }
   ],
   "source": [
    "Evaluar(1, 1)"
   ]
  },
  {
   "cell_type": "code",
   "execution_count": 25,
   "metadata": {},
   "outputs": [
    {
     "data": {
      "text/plain": [
       "Is Congestión >= 1?"
      ]
     },
     "execution_count": 25,
     "metadata": {},
     "output_type": "execute_result"
    }
   ],
   "source": [
    "q = Evaluar(1, 1)\n",
    "q"
   ]
  },
  {
   "cell_type": "code",
   "execution_count": 27,
   "metadata": {},
   "outputs": [
    {
     "data": {
      "text/plain": [
       "True"
      ]
     },
     "execution_count": 27,
     "metadata": {},
     "output_type": "execute_result"
    }
   ],
   "source": [
    "example = datos_entrenamiento[4]\n",
    "q.comparar(example)"
   ]
  },
  {
   "cell_type": "code",
   "execution_count": 28,
   "metadata": {},
   "outputs": [],
   "source": [
    "def particionar(filas, evaluar):\n",
    "    filas_acertadas, filas_erradas = [], []\n",
    "    for fila in filas:\n",
    "        if evaluar.comparar(fila):\n",
    "            filas_acertadas.append(fila)\n",
    "        else:\n",
    "            filas_erradas.append(fila)\n",
    "    return filas_acertadas, filas_erradas"
   ]
  },
  {
   "cell_type": "code",
   "execution_count": 35,
   "metadata": {},
   "outputs": [
    {
     "data": {
      "text/plain": [
       "[[0, 0, 1, 0, 'Alergia'], [0, 0, 1, 0, 'Alergia']]"
      ]
     },
     "execution_count": 35,
     "metadata": {},
     "output_type": "execute_result"
    }
   ],
   "source": [
    "filas_acertadas, filas_erradas = particionar(datos_entrenamiento, Evaluar(4, 'Alergia')) \n",
    "filas_acertadas"
   ]
  },
  {
   "cell_type": "code",
   "execution_count": 36,
   "metadata": {},
   "outputs": [
    {
     "data": {
      "text/plain": [
       "[[1, 1, 0, 1, 'Infección de garganta'],\n",
       " [0, 0, 1, 1, 'Resfriado'],\n",
       " [1, 1, 1, 1, 'Infección de garganta'],\n",
       " [0, 0, 1, 0, 'Resfriado'],\n",
       " [1, 0, 1, 1, 'Resfriado'],\n",
       " [1, 1, 0, 1, 'Infección de garganta'],\n",
       " [0, 0, 1, 1, 'Resfriado']]"
      ]
     },
     "execution_count": 36,
     "metadata": {},
     "output_type": "execute_result"
    }
   ],
   "source": [
    "filas_erradas"
   ]
  },
  {
   "cell_type": "code",
   "execution_count": 37,
   "metadata": {},
   "outputs": [],
   "source": [
    "def incertidumbre(filas):\n",
    "    conteo = class_contar(filas)\n",
    "    impureza = 1\n",
    "    for datos in conteo:\n",
    "        prob_de_datos = conteo[datos] / float(len(filas))\n",
    "        impureza -= prob_de_datos**2\n",
    "    return impureza"
   ]
  },
  {
   "cell_type": "code",
   "execution_count": 38,
   "metadata": {},
   "outputs": [
    {
     "data": {
      "text/plain": [
       "0.6419753086419753"
      ]
     },
     "execution_count": 38,
     "metadata": {},
     "output_type": "execute_result"
    }
   ],
   "source": [
    "incertidumbre_actual = incertidumbre(datos_entrenamiento)\n",
    "incertidumbre_actual"
   ]
  },
  {
   "cell_type": "code",
   "execution_count": 39,
   "metadata": {},
   "outputs": [],
   "source": [
    "def informacion_seguimiento(izquierda, derecha, incertidumbre_actual):\n",
    "    p = float(len(izquierda)) / (len(izquierda) + len(derecha))\n",
    "    return incertidumbre_actual - p * incertidumbre(izquierda) - (1 - p) * incertidumbre(derecha)\n"
   ]
  },
  {
   "cell_type": "code",
   "execution_count": 52,
   "metadata": {},
   "outputs": [
    {
     "data": {
      "text/plain": [
       "0.34567901234567894"
      ]
     },
     "execution_count": 52,
     "metadata": {},
     "output_type": "execute_result"
    }
   ],
   "source": [
    "filas_acertadas, filas_erradas = particionar(datos_entrenamiento, Evaluar(1, 1)) \n",
    "informacion_seguimiento(filas_acertadas, filas_erradas, incertidumbre_actual)"
   ]
  },
  {
   "cell_type": "code",
   "execution_count": 53,
   "metadata": {},
   "outputs": [],
   "source": [
    "def encontrar_mejor_ruta(filas):\n",
    "    \n",
    "    mejor_seguimiento = 0\n",
    "    mejor_evaluacion = None\n",
    "    incertidumbre_actual = incertidumbre(filas)\n",
    "    numero_columnas = len(filas[0]) - 1\n",
    "\n",
    "    for columnas in range(numero_columnas):\n",
    "\n",
    "        valores = set([fila[columnas] for fila in filas])\n",
    "\n",
    "        for valor in valores:\n",
    "\n",
    "            evaluar = Evaluar(columnas, valor)\n",
    "            filas_acertadas, filas_erradas = particionar(filas, evaluar)\n",
    "\n",
    "            if len(filas_acertadas) == 0 or len(filas_erradas) == 0:\n",
    "                continue\n",
    "\n",
    "            info = informacion_seguimiento(filas_acertadas, filas_erradas, incertidumbre_actual)\n",
    "\n",
    "            if info >= mejor_seguimiento:\n",
    "                mejor_seguimiento, mejor_evaluacion = info, evaluar\n",
    "\n",
    "    return mejor_seguimiento, mejor_evaluacion"
   ]
  },
  {
   "cell_type": "code",
   "execution_count": 54,
   "metadata": {},
   "outputs": [
    {
     "data": {
      "text/plain": [
       "0.34567901234567894"
      ]
     },
     "execution_count": 54,
     "metadata": {},
     "output_type": "execute_result"
    }
   ],
   "source": [
    "mejor_seguimiento, mejor_evaluacion = encontrar_mejor_ruta(datos_entrenamiento)\n",
    "mejor_seguimiento"
   ]
  },
  {
   "cell_type": "code",
   "execution_count": 51,
   "metadata": {},
   "outputs": [
    {
     "data": {
      "text/plain": [
       "Is Dolor de garganta >= 1?"
      ]
     },
     "execution_count": 51,
     "metadata": {},
     "output_type": "execute_result"
    }
   ],
   "source": [
    "mejor_evaluacion"
   ]
  },
  {
   "cell_type": "code",
   "execution_count": 55,
   "metadata": {},
   "outputs": [],
   "source": [
    "class clasificacion:\n",
    "   \n",
    "    def __init__(self, filas):\n",
    "        self.prediccion = class_contar(filas)"
   ]
  },
  {
   "cell_type": "code",
   "execution_count": 56,
   "metadata": {},
   "outputs": [],
   "source": [
    "class decidir_nodo:\n",
    "\n",
    "    def __init__(self, evaluar, rama_correcta, rama_incorrecta):\n",
    "        self.evaluar = evaluar\n",
    "        self.rama_correcta = rama_correcta\n",
    "        self.rama_incorrecta = rama_incorrecta"
   ]
  },
  {
   "cell_type": "code",
   "execution_count": 57,
   "metadata": {},
   "outputs": [],
   "source": [
    "def construir_arbol(filas):\n",
    "\n",
    "    info, evaluar = encontrar_mejor_ruta(filas)\n",
    "\n",
    "    if info == 0:\n",
    "        return clasificacion(filas)\n",
    "\n",
    "    filas_acertadas, filas_erradas = particionar(filas, evaluar)\n",
    "    rama_correcta = construir_arbol(filas_acertadas)\n",
    "    rama_incorrecta = construir_arbol(filas_erradas)\n",
    "\n",
    "    return decidir_nodo(evaluar, rama_correcta, rama_incorrecta)"
   ]
  },
  {
   "cell_type": "code",
   "execution_count": 58,
   "metadata": {},
   "outputs": [],
   "source": [
    "def imprimir_arbol(nodo, espacio=\"\"):\n",
    "\n",
    "    if isinstance(nodo, clasificacion):\n",
    "        print (espacio + \"Predict\", nodo.prediccion)\n",
    "        return\n",
    "\n",
    "    print (espacio + str(nodo.evaluar))\n",
    "\n",
    "    print (espacio + '--> True:')\n",
    "    imprimir_arbol(nodo.rama_correcta, espacio + \"  \")\n",
    "\n",
    "    print (espacio + '--> False:')\n",
    "    imprimir_arbol(nodo.rama_incorrecta, espacio + \"  \")"
   ]
  },
  {
   "cell_type": "code",
   "execution_count": 59,
   "metadata": {},
   "outputs": [],
   "source": [
    "mi_arbol = construir_arbol(datos_entrenamiento)"
   ]
  },
  {
   "cell_type": "code",
   "execution_count": 60,
   "metadata": {},
   "outputs": [
    {
     "name": "stdout",
     "output_type": "stream",
     "text": [
      "Is Dolor de garganta >= 1?\n",
      "--> True:\n",
      "  Predict {'Infección de garganta': 3}\n",
      "--> False:\n",
      "  Is Dolor de cabeza >= 1?\n",
      "  --> True:\n",
      "    Predict {'Resfriado': 3}\n",
      "  --> False:\n",
      "    Predict {'Alergia': 2, 'Resfriado': 1}\n"
     ]
    }
   ],
   "source": [
    "imprimir_arbol(mi_arbol)"
   ]
  },
  {
   "cell_type": "code",
   "execution_count": 61,
   "metadata": {},
   "outputs": [],
   "source": [
    "def clasificar(fila, nodo):\n",
    "\n",
    "    if isinstance(nodo, clasificacion):\n",
    "        return nodo.prediccion\n",
    "\n",
    "    if nodo.evaluar.comparar(fila):\n",
    "        return clasificar(fila, nodo.rama_correcta)\n",
    "    else:\n",
    "        return clasificar(fila, nodo.rama_incorrecta)"
   ]
  },
  {
   "cell_type": "code",
   "execution_count": 64,
   "metadata": {},
   "outputs": [
    {
     "data": {
      "text/plain": [
       "{'Infección de garganta': 3}"
      ]
     },
     "execution_count": 64,
     "metadata": {},
     "output_type": "execute_result"
    }
   ],
   "source": [
    "clasificar(datos_entrenamiento[0], mi_arbol)"
   ]
  },
  {
   "cell_type": "code",
   "execution_count": 65,
   "metadata": {},
   "outputs": [],
   "source": [
    "def imprimir_clasificacion(conteo):\n",
    "    total = sum(conteo.values()) * 1.0\n",
    "    probabilidades = {}\n",
    "    for datos in conteo.keys():\n",
    "        probabilidades[datos] = str(int(conteo[datos] / total * 100)) + \"%\"\n",
    "    return probabilidades"
   ]
  },
  {
   "cell_type": "code",
   "execution_count": 67,
   "metadata": {},
   "outputs": [
    {
     "data": {
      "text/plain": [
       "{'Alergia': '66%', 'Resfriado': '33%'}"
      ]
     },
     "execution_count": 67,
     "metadata": {},
     "output_type": "execute_result"
    }
   ],
   "source": [
    "imprimir_clasificacion(clasificar(datos_entrenamiento[1], mi_arbol))"
   ]
  },
  {
   "cell_type": "code",
   "execution_count": 68,
   "metadata": {},
   "outputs": [],
   "source": [
    "evaluar_datos = [\n",
    "    [1, 0, 1, 1, '¿?'],\n",
    "    [0, 0, 1, 0, '¿?'],\n",
    "]"
   ]
  },
  {
   "cell_type": "code",
   "execution_count": 69,
   "metadata": {},
   "outputs": [
    {
     "name": "stdout",
     "output_type": "stream",
     "text": [
      "Diagnóstico: {'Resfriado': '100%'}\n",
      "Diagnóstico: {'Alergia': '66%', 'Resfriado': '33%'}\n"
     ]
    }
   ],
   "source": [
    "for fila in evaluar_datos:\n",
    "    print (\"Diagnóstico: %s\" %\n",
    "           (imprimir_clasificacion(clasificar(fila, mi_arbol))))"
   ]
  },
  {
   "cell_type": "code",
   "execution_count": null,
   "metadata": {},
   "outputs": [],
   "source": []
  }
 ],
 "metadata": {
  "kernelspec": {
   "display_name": "Python 3",
   "language": "python",
   "name": "python3"
  },
  "language_info": {
   "codemirror_mode": {
    "name": "ipython",
    "version": 3
   },
   "file_extension": ".py",
   "mimetype": "text/x-python",
   "name": "python",
   "nbconvert_exporter": "python",
   "pygments_lexer": "ipython3",
   "version": "3.7.6"
  }
 },
 "nbformat": 4,
 "nbformat_minor": 4
}
